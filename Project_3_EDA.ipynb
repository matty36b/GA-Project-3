{
 "cells": [
  {
   "cell_type": "markdown",
   "metadata": {},
   "source": [
    "# Import tools"
   ]
  },
  {
   "cell_type": "code",
   "execution_count": 38,
   "metadata": {},
   "outputs": [],
   "source": [
    "import matplotlib.pyplot as plt\n",
    "import pandas as pd\n",
    "import seaborn as sns\n",
    "from sklearn.metrics import classification_report\n",
    "from sklearn.feature_extraction.text import CountVectorizer, TfidfVectorizer\n",
    "from sklearn.model_selection import train_test_split, GridSearchCV\n",
    "from sklearn.pipeline import Pipeline\n",
    "from sklearn.naive_bayes import MultinomialNB\n",
    "from sklearn.linear_model import LogisticRegression\n",
    "from sklearn.metrics import confusion_matrix, plot_confusion_matrix\n",
    "import requests\n",
    "import time\n",
    "pd.options.display.max_colwidth = 350"
   ]
  },
  {
   "cell_type": "markdown",
   "metadata": {},
   "source": [
    "# Import data"
   ]
  },
  {
   "cell_type": "code",
   "execution_count": 2,
   "metadata": {},
   "outputs": [
    {
     "data": {
      "text/plain": [
       "(2000, 2)"
      ]
     },
     "execution_count": 2,
     "metadata": {},
     "output_type": "execute_result"
    }
   ],
   "source": [
    "all_posts = pd.read_csv('all_posts.csv')\n",
    "all_posts.shape"
   ]
  },
  {
   "cell_type": "code",
   "execution_count": 50,
   "metadata": {},
   "outputs": [
    {
     "data": {
      "text/html": [
       "<div>\n",
       "<style scoped>\n",
       "    .dataframe tbody tr th:only-of-type {\n",
       "        vertical-align: middle;\n",
       "    }\n",
       "\n",
       "    .dataframe tbody tr th {\n",
       "        vertical-align: top;\n",
       "    }\n",
       "\n",
       "    .dataframe thead th {\n",
       "        text-align: right;\n",
       "    }\n",
       "</style>\n",
       "<table border=\"1\" class=\"dataframe\">\n",
       "  <thead>\n",
       "    <tr style=\"text-align: right;\">\n",
       "      <th></th>\n",
       "      <th>subreddit</th>\n",
       "      <th>title</th>\n",
       "      <th>title_char_length</th>\n",
       "      <th>title_word_count</th>\n",
       "    </tr>\n",
       "  </thead>\n",
       "  <tbody>\n",
       "    <tr>\n",
       "      <th>0</th>\n",
       "      <td>nasa</td>\n",
       "      <td>Marshall Spinoffs Increase 3D Printing Capabilities, Tackle Foot Odor</td>\n",
       "      <td>69</td>\n",
       "      <td>9</td>\n",
       "    </tr>\n",
       "    <tr>\n",
       "      <th>1</th>\n",
       "      <td>nasa</td>\n",
       "      <td>NASA's Perseverance rover has the same processor as an iMac from 1998</td>\n",
       "      <td>69</td>\n",
       "      <td>12</td>\n",
       "    </tr>\n",
       "    <tr>\n",
       "      <th>2</th>\n",
       "      <td>nasa</td>\n",
       "      <td>Possible heat shield in perseverance panorama?</td>\n",
       "      <td>46</td>\n",
       "      <td>6</td>\n",
       "    </tr>\n",
       "    <tr>\n",
       "      <th>3</th>\n",
       "      <td>nasa</td>\n",
       "      <td>Dirty talk during space walk</td>\n",
       "      <td>28</td>\n",
       "      <td>5</td>\n",
       "    </tr>\n",
       "    <tr>\n",
       "      <th>5</th>\n",
       "      <td>nasa</td>\n",
       "      <td>Possible Heat shield in Perseverance panorama?</td>\n",
       "      <td>46</td>\n",
       "      <td>6</td>\n",
       "    </tr>\n",
       "  </tbody>\n",
       "</table>\n",
       "</div>"
      ],
      "text/plain": [
       "  subreddit  \\\n",
       "0      nasa   \n",
       "1      nasa   \n",
       "2      nasa   \n",
       "3      nasa   \n",
       "5      nasa   \n",
       "\n",
       "                                                                   title  \\\n",
       "0  Marshall Spinoffs Increase 3D Printing Capabilities, Tackle Foot Odor   \n",
       "1  NASA's Perseverance rover has the same processor as an iMac from 1998   \n",
       "2                         Possible heat shield in perseverance panorama?   \n",
       "3                                           Dirty talk during space walk   \n",
       "5                         Possible Heat shield in Perseverance panorama?   \n",
       "\n",
       "   title_char_length  title_word_count  \n",
       "0                 69                 9  \n",
       "1                 69                12  \n",
       "2                 46                 6  \n",
       "3                 28                 5  \n",
       "5                 46                 6  "
      ]
     },
     "execution_count": 50,
     "metadata": {},
     "output_type": "execute_result"
    }
   ],
   "source": [
    "all_posts.head()"
   ]
  },
  {
   "cell_type": "code",
   "execution_count": 51,
   "metadata": {},
   "outputs": [
    {
     "data": {
      "text/html": [
       "<div>\n",
       "<style scoped>\n",
       "    .dataframe tbody tr th:only-of-type {\n",
       "        vertical-align: middle;\n",
       "    }\n",
       "\n",
       "    .dataframe tbody tr th {\n",
       "        vertical-align: top;\n",
       "    }\n",
       "\n",
       "    .dataframe thead th {\n",
       "        text-align: right;\n",
       "    }\n",
       "</style>\n",
       "<table border=\"1\" class=\"dataframe\">\n",
       "  <thead>\n",
       "    <tr style=\"text-align: right;\">\n",
       "      <th></th>\n",
       "      <th>subreddit</th>\n",
       "      <th>title</th>\n",
       "      <th>title_char_length</th>\n",
       "      <th>title_word_count</th>\n",
       "    </tr>\n",
       "  </thead>\n",
       "  <tbody>\n",
       "    <tr>\n",
       "      <th>1995</th>\n",
       "      <td>Astronomy</td>\n",
       "      <td>Celestron 100az or Orion Starblast II?</td>\n",
       "      <td>38</td>\n",
       "      <td>6</td>\n",
       "    </tr>\n",
       "    <tr>\n",
       "      <th>1996</th>\n",
       "      <td>Astronomy</td>\n",
       "      <td>Why does the sun shine much brighter on earth than from space satellites or the moon?</td>\n",
       "      <td>85</td>\n",
       "      <td>16</td>\n",
       "    </tr>\n",
       "    <tr>\n",
       "      <th>1997</th>\n",
       "      <td>Astronomy</td>\n",
       "      <td>NASA Citizen Scientist. Contribute to actual NASA Missions</td>\n",
       "      <td>58</td>\n",
       "      <td>8</td>\n",
       "    </tr>\n",
       "    <tr>\n",
       "      <th>1998</th>\n",
       "      <td>Astronomy</td>\n",
       "      <td>Are black holes real or fake</td>\n",
       "      <td>28</td>\n",
       "      <td>6</td>\n",
       "    </tr>\n",
       "    <tr>\n",
       "      <th>1999</th>\n",
       "      <td>Astronomy</td>\n",
       "      <td>What is the difference between these 2 binoculars?</td>\n",
       "      <td>50</td>\n",
       "      <td>8</td>\n",
       "    </tr>\n",
       "  </tbody>\n",
       "</table>\n",
       "</div>"
      ],
      "text/plain": [
       "      subreddit  \\\n",
       "1995  Astronomy   \n",
       "1996  Astronomy   \n",
       "1997  Astronomy   \n",
       "1998  Astronomy   \n",
       "1999  Astronomy   \n",
       "\n",
       "                                                                                      title  \\\n",
       "1995                                                 Celestron 100az or Orion Starblast II?   \n",
       "1996  Why does the sun shine much brighter on earth than from space satellites or the moon?   \n",
       "1997                             NASA Citizen Scientist. Contribute to actual NASA Missions   \n",
       "1998                                                           Are black holes real or fake   \n",
       "1999                                     What is the difference between these 2 binoculars?   \n",
       "\n",
       "      title_char_length  title_word_count  \n",
       "1995                 38                 6  \n",
       "1996                 85                16  \n",
       "1997                 58                 8  \n",
       "1998                 28                 6  \n",
       "1999                 50                 8  "
      ]
     },
     "execution_count": 51,
     "metadata": {},
     "output_type": "execute_result"
    }
   ],
   "source": [
    "all_posts.tail()"
   ]
  },
  {
   "cell_type": "code",
   "execution_count": 4,
   "metadata": {},
   "outputs": [
    {
     "data": {
      "text/plain": [
       "1930"
      ]
     },
     "execution_count": 4,
     "metadata": {},
     "output_type": "execute_result"
    }
   ],
   "source": [
    "all_posts['title'].nunique()"
   ]
  },
  {
   "cell_type": "markdown",
   "metadata": {},
   "source": [
    "### There are 1930 unique titles out of 2000, so there are some duplicates that need to be cleaned"
   ]
  },
  {
   "cell_type": "code",
   "execution_count": 5,
   "metadata": {
    "collapsed": true,
    "jupyter": {
     "outputs_hidden": true
    }
   },
   "outputs": [
    {
     "data": {
      "text/html": [
       "<div>\n",
       "<style scoped>\n",
       "    .dataframe tbody tr th:only-of-type {\n",
       "        vertical-align: middle;\n",
       "    }\n",
       "\n",
       "    .dataframe tbody tr th {\n",
       "        vertical-align: top;\n",
       "    }\n",
       "\n",
       "    .dataframe thead th {\n",
       "        text-align: right;\n",
       "    }\n",
       "</style>\n",
       "<table border=\"1\" class=\"dataframe\">\n",
       "  <thead>\n",
       "    <tr style=\"text-align: right;\">\n",
       "      <th></th>\n",
       "      <th>subreddit</th>\n",
       "      <th>title</th>\n",
       "    </tr>\n",
       "  </thead>\n",
       "  <tbody>\n",
       "    <tr>\n",
       "      <th>2</th>\n",
       "      <td>nasa</td>\n",
       "      <td>Possible heat shield in perseverance panorama?</td>\n",
       "    </tr>\n",
       "    <tr>\n",
       "      <th>4</th>\n",
       "      <td>nasa</td>\n",
       "      <td>Possible heat shield in perseverance panorama?</td>\n",
       "    </tr>\n",
       "    <tr>\n",
       "      <th>70</th>\n",
       "      <td>nasa</td>\n",
       "      <td>A stripped redesign of graphic decoding Mars parachute message \"DARE MIGHTY THINGS\"</td>\n",
       "    </tr>\n",
       "    <tr>\n",
       "      <th>71</th>\n",
       "      <td>nasa</td>\n",
       "      <td>A stripped redesign of graphic decoding Mars parachute message \"DARE MIGHTY THINGS\"</td>\n",
       "    </tr>\n",
       "    <tr>\n",
       "      <th>78</th>\n",
       "      <td>nasa</td>\n",
       "      <td>A Collection of the Latest Achievements and Stories from Deep Space Exploration</td>\n",
       "    </tr>\n",
       "    <tr>\n",
       "      <th>82</th>\n",
       "      <td>nasa</td>\n",
       "      <td>Perseverance</td>\n",
       "    </tr>\n",
       "    <tr>\n",
       "      <th>125</th>\n",
       "      <td>nasa</td>\n",
       "      <td>A Chat with THE Dr. Barry Barish || Spotlight Lecture || Shaastra, IIT Madras</td>\n",
       "    </tr>\n",
       "    <tr>\n",
       "      <th>148</th>\n",
       "      <td>nasa</td>\n",
       "      <td>Life on Mars is the perfect song to recap the Perseverance mission</td>\n",
       "    </tr>\n",
       "    <tr>\n",
       "      <th>149</th>\n",
       "      <td>nasa</td>\n",
       "      <td>Life on Mars is the perfect song to recap the Perseverance mission</td>\n",
       "    </tr>\n",
       "    <tr>\n",
       "      <th>166</th>\n",
       "      <td>nasa</td>\n",
       "      <td>New Science Podcast: Interview with NASA Engineer Tracy Drain</td>\n",
       "    </tr>\n",
       "    <tr>\n",
       "      <th>168</th>\n",
       "      <td>nasa</td>\n",
       "      <td>New Science Podcast: Interview with NASA Engineer Tracy Drain</td>\n",
       "    </tr>\n",
       "    <tr>\n",
       "      <th>178</th>\n",
       "      <td>nasa</td>\n",
       "      <td>Why does NASA have such awful microphones?</td>\n",
       "    </tr>\n",
       "    <tr>\n",
       "      <th>179</th>\n",
       "      <td>nasa</td>\n",
       "      <td>Why does NASA have such awful microphones?</td>\n",
       "    </tr>\n",
       "    <tr>\n",
       "      <th>195</th>\n",
       "      <td>nasa</td>\n",
       "      <td>Using Google Maps to Establish Perspective on Perseverance Landing Video</td>\n",
       "    </tr>\n",
       "    <tr>\n",
       "      <th>196</th>\n",
       "      <td>nasa</td>\n",
       "      <td>Using Google Maps to Establish Perspective on Perseverance Landing Video</td>\n",
       "    </tr>\n",
       "    <tr>\n",
       "      <th>213</th>\n",
       "      <td>nasa</td>\n",
       "      <td>Did you all find the easter egg on the deck? The family car sticker with Sojourner, Spirit, Opportunity, Curiosity, Perseverance and Ingenuity!</td>\n",
       "    </tr>\n",
       "    <tr>\n",
       "      <th>218</th>\n",
       "      <td>nasa</td>\n",
       "      <td>NASA AMA</td>\n",
       "    </tr>\n",
       "    <tr>\n",
       "      <th>219</th>\n",
       "      <td>nasa</td>\n",
       "      <td>NASA AMA</td>\n",
       "    </tr>\n",
       "    <tr>\n",
       "      <th>222</th>\n",
       "      <td>nasa</td>\n",
       "      <td>[crosspost] Scientists and engineers working on NASA‘s Perseverance rover and Ingenuity helicopter that just landed on Mars are doing an AMA in r/IAmA</td>\n",
       "    </tr>\n",
       "    <tr>\n",
       "      <th>223</th>\n",
       "      <td>nasa</td>\n",
       "      <td>[crosspost] Scientists and engineers working on NASA‘s Perseverance rover and Ingenuity helicopter that just landed on Mars are doing an AMA in r/IAmA</td>\n",
       "    </tr>\n",
       "    <tr>\n",
       "      <th>227</th>\n",
       "      <td>nasa</td>\n",
       "      <td>Panorama of Mars from Perseverance Rover</td>\n",
       "    </tr>\n",
       "    <tr>\n",
       "      <th>228</th>\n",
       "      <td>nasa</td>\n",
       "      <td>Panorama of Mars from Perseverance Rover</td>\n",
       "    </tr>\n",
       "    <tr>\n",
       "      <th>263</th>\n",
       "      <td>nasa</td>\n",
       "      <td>Today one of the famous astronomers (Abdulkadir Topkaç) in Turkey lost his fight with cancer. His history is in the comments.</td>\n",
       "    </tr>\n",
       "    <tr>\n",
       "      <th>290</th>\n",
       "      <td>nasa</td>\n",
       "      <td>Did anyone else notice this?</td>\n",
       "    </tr>\n",
       "    <tr>\n",
       "      <th>309</th>\n",
       "      <td>nasa</td>\n",
       "      <td>Are We Alone?</td>\n",
       "    </tr>\n",
       "    <tr>\n",
       "      <th>313</th>\n",
       "      <td>nasa</td>\n",
       "      <td>Found these in my attic today. Our pipes burst after the freeze here in Texas and we were up there checking them when we got this cool surprise!</td>\n",
       "    </tr>\n",
       "    <tr>\n",
       "      <th>314</th>\n",
       "      <td>nasa</td>\n",
       "      <td>Found these in my attic today. Our pipes burst after the freeze here in Texas and we were up there checking them when we got this cool surprise!</td>\n",
       "    </tr>\n",
       "    <tr>\n",
       "      <th>316</th>\n",
       "      <td>nasa</td>\n",
       "      <td>An idea</td>\n",
       "    </tr>\n",
       "    <tr>\n",
       "      <th>320</th>\n",
       "      <td>nasa</td>\n",
       "      <td>Are We Alone?</td>\n",
       "    </tr>\n",
       "    <tr>\n",
       "      <th>327</th>\n",
       "      <td>nasa</td>\n",
       "      <td>Is my name on Mars?</td>\n",
       "    </tr>\n",
       "    <tr>\n",
       "      <th>328</th>\n",
       "      <td>nasa</td>\n",
       "      <td>Is my name on Mars?</td>\n",
       "    </tr>\n",
       "    <tr>\n",
       "      <th>333</th>\n",
       "      <td>nasa</td>\n",
       "      <td>Did anyone else notice this?</td>\n",
       "    </tr>\n",
       "    <tr>\n",
       "      <th>394</th>\n",
       "      <td>nasa</td>\n",
       "      <td>An idea</td>\n",
       "    </tr>\n",
       "    <tr>\n",
       "      <th>432</th>\n",
       "      <td>nasa</td>\n",
       "      <td>Perseverance</td>\n",
       "    </tr>\n",
       "    <tr>\n",
       "      <th>437</th>\n",
       "      <td>nasa</td>\n",
       "      <td>Perseverance has landed</td>\n",
       "    </tr>\n",
       "    <tr>\n",
       "      <th>445</th>\n",
       "      <td>nasa</td>\n",
       "      <td>PERSEVERANCE</td>\n",
       "    </tr>\n",
       "    <tr>\n",
       "      <th>459</th>\n",
       "      <td>nasa</td>\n",
       "      <td>Perseverance has landed</td>\n",
       "    </tr>\n",
       "    <tr>\n",
       "      <th>504</th>\n",
       "      <td>nasa</td>\n",
       "      <td>NASA budget is 23 billion dollars - cant afford 4K live stream.</td>\n",
       "    </tr>\n",
       "    <tr>\n",
       "      <th>505</th>\n",
       "      <td>nasa</td>\n",
       "      <td>NASA budget is 23 billion dollars - cant afford 4K live stream.</td>\n",
       "    </tr>\n",
       "    <tr>\n",
       "      <th>532</th>\n",
       "      <td>nasa</td>\n",
       "      <td>What if Ingenuity falls over?</td>\n",
       "    </tr>\n",
       "  </tbody>\n",
       "</table>\n",
       "</div>"
      ],
      "text/plain": [
       "    subreddit  \\\n",
       "2        nasa   \n",
       "4        nasa   \n",
       "70       nasa   \n",
       "71       nasa   \n",
       "78       nasa   \n",
       "82       nasa   \n",
       "125      nasa   \n",
       "148      nasa   \n",
       "149      nasa   \n",
       "166      nasa   \n",
       "168      nasa   \n",
       "178      nasa   \n",
       "179      nasa   \n",
       "195      nasa   \n",
       "196      nasa   \n",
       "213      nasa   \n",
       "218      nasa   \n",
       "219      nasa   \n",
       "222      nasa   \n",
       "223      nasa   \n",
       "227      nasa   \n",
       "228      nasa   \n",
       "263      nasa   \n",
       "290      nasa   \n",
       "309      nasa   \n",
       "313      nasa   \n",
       "314      nasa   \n",
       "316      nasa   \n",
       "320      nasa   \n",
       "327      nasa   \n",
       "328      nasa   \n",
       "333      nasa   \n",
       "394      nasa   \n",
       "432      nasa   \n",
       "437      nasa   \n",
       "445      nasa   \n",
       "459      nasa   \n",
       "504      nasa   \n",
       "505      nasa   \n",
       "532      nasa   \n",
       "\n",
       "                                                                                                                                                      title  \n",
       "2                                                                                                            Possible heat shield in perseverance panorama?  \n",
       "4                                                                                                            Possible heat shield in perseverance panorama?  \n",
       "70                                                                      A stripped redesign of graphic decoding Mars parachute message \"DARE MIGHTY THINGS\"  \n",
       "71                                                                      A stripped redesign of graphic decoding Mars parachute message \"DARE MIGHTY THINGS\"  \n",
       "78                                                                          A Collection of the Latest Achievements and Stories from Deep Space Exploration  \n",
       "82                                                                                                                                             Perseverance  \n",
       "125                                                                           A Chat with THE Dr. Barry Barish || Spotlight Lecture || Shaastra, IIT Madras  \n",
       "148                                                                                      Life on Mars is the perfect song to recap the Perseverance mission  \n",
       "149                                                                                      Life on Mars is the perfect song to recap the Perseverance mission  \n",
       "166                                                                                           New Science Podcast: Interview with NASA Engineer Tracy Drain  \n",
       "168                                                                                           New Science Podcast: Interview with NASA Engineer Tracy Drain  \n",
       "178                                                                                                              Why does NASA have such awful microphones?  \n",
       "179                                                                                                              Why does NASA have such awful microphones?  \n",
       "195                                                                                Using Google Maps to Establish Perspective on Perseverance Landing Video  \n",
       "196                                                                                Using Google Maps to Establish Perspective on Perseverance Landing Video  \n",
       "213         Did you all find the easter egg on the deck? The family car sticker with Sojourner, Spirit, Opportunity, Curiosity, Perseverance and Ingenuity!  \n",
       "218                                                                                                                                                NASA AMA  \n",
       "219                                                                                                                                                NASA AMA  \n",
       "222  [crosspost] Scientists and engineers working on NASA‘s Perseverance rover and Ingenuity helicopter that just landed on Mars are doing an AMA in r/IAmA  \n",
       "223  [crosspost] Scientists and engineers working on NASA‘s Perseverance rover and Ingenuity helicopter that just landed on Mars are doing an AMA in r/IAmA  \n",
       "227                                                                                                                Panorama of Mars from Perseverance Rover  \n",
       "228                                                                                                                Panorama of Mars from Perseverance Rover  \n",
       "263                           Today one of the famous astronomers (Abdulkadir Topkaç) in Turkey lost his fight with cancer. His history is in the comments.  \n",
       "290                                                                                                                            Did anyone else notice this?  \n",
       "309                                                                                                                                           Are We Alone?  \n",
       "313        Found these in my attic today. Our pipes burst after the freeze here in Texas and we were up there checking them when we got this cool surprise!  \n",
       "314        Found these in my attic today. Our pipes burst after the freeze here in Texas and we were up there checking them when we got this cool surprise!  \n",
       "316                                                                                                                                                 An idea  \n",
       "320                                                                                                                                           Are We Alone?  \n",
       "327                                                                                                                                     Is my name on Mars?  \n",
       "328                                                                                                                                     Is my name on Mars?  \n",
       "333                                                                                                                            Did anyone else notice this?  \n",
       "394                                                                                                                                                 An idea  \n",
       "432                                                                                                                                            Perseverance  \n",
       "437                                                                                                                                 Perseverance has landed  \n",
       "445                                                                                                                                            PERSEVERANCE  \n",
       "459                                                                                                                                 Perseverance has landed  \n",
       "504                                                                                         NASA budget is 23 billion dollars - cant afford 4K live stream.  \n",
       "505                                                                                         NASA budget is 23 billion dollars - cant afford 4K live stream.  \n",
       "532                                                                                                                           What if Ingenuity falls over?  "
      ]
     },
     "execution_count": 5,
     "metadata": {},
     "output_type": "execute_result"
    }
   ],
   "source": [
    "all_posts[all_posts.duplicated(['title'], keep=False)].head(40)"
   ]
  },
  {
   "cell_type": "code",
   "execution_count": 6,
   "metadata": {
    "collapsed": true,
    "jupyter": {
     "outputs_hidden": true
    }
   },
   "outputs": [
    {
     "data": {
      "text/html": [
       "<div>\n",
       "<style scoped>\n",
       "    .dataframe tbody tr th:only-of-type {\n",
       "        vertical-align: middle;\n",
       "    }\n",
       "\n",
       "    .dataframe tbody tr th {\n",
       "        vertical-align: top;\n",
       "    }\n",
       "\n",
       "    .dataframe thead th {\n",
       "        text-align: right;\n",
       "    }\n",
       "</style>\n",
       "<table border=\"1\" class=\"dataframe\">\n",
       "  <thead>\n",
       "    <tr style=\"text-align: right;\">\n",
       "      <th></th>\n",
       "      <th>subreddit</th>\n",
       "      <th>title</th>\n",
       "    </tr>\n",
       "  </thead>\n",
       "  <tbody>\n",
       "    <tr>\n",
       "      <th>1406</th>\n",
       "      <td>Astronomy</td>\n",
       "      <td>Orion Nebula</td>\n",
       "    </tr>\n",
       "    <tr>\n",
       "      <th>1410</th>\n",
       "      <td>Astronomy</td>\n",
       "      <td>Starship from SpaceX is going to have a new landing sytem after two explosions</td>\n",
       "    </tr>\n",
       "    <tr>\n",
       "      <th>1432</th>\n",
       "      <td>Astronomy</td>\n",
       "      <td>The Jack-o-Lantern Nebula</td>\n",
       "    </tr>\n",
       "    <tr>\n",
       "      <th>1439</th>\n",
       "      <td>Astronomy</td>\n",
       "      <td>Dinosaurs, consider yourselves avenged...</td>\n",
       "    </tr>\n",
       "    <tr>\n",
       "      <th>1440</th>\n",
       "      <td>Astronomy</td>\n",
       "      <td>Dinosaurs, consider yourselves avenged...</td>\n",
       "    </tr>\n",
       "    <tr>\n",
       "      <th>1491</th>\n",
       "      <td>Astronomy</td>\n",
       "      <td>The California Nebula</td>\n",
       "    </tr>\n",
       "    <tr>\n",
       "      <th>1492</th>\n",
       "      <td>Astronomy</td>\n",
       "      <td>The California Nebula</td>\n",
       "    </tr>\n",
       "    <tr>\n",
       "      <th>1493</th>\n",
       "      <td>Astronomy</td>\n",
       "      <td>TESS Discovers New Worlds in a River of Stars</td>\n",
       "    </tr>\n",
       "    <tr>\n",
       "      <th>1515</th>\n",
       "      <td>Astronomy</td>\n",
       "      <td>Perseverance, The Journey To Mars</td>\n",
       "    </tr>\n",
       "    <tr>\n",
       "      <th>1521</th>\n",
       "      <td>Astronomy</td>\n",
       "      <td>Crescent Moon composite with animated twinkling stars</td>\n",
       "    </tr>\n",
       "    <tr>\n",
       "      <th>1522</th>\n",
       "      <td>Astronomy</td>\n",
       "      <td>Crescent Moon composite with animated twinkling stars</td>\n",
       "    </tr>\n",
       "    <tr>\n",
       "      <th>1535</th>\n",
       "      <td>Astronomy</td>\n",
       "      <td>Are there more ridges like Rima Ariadaeus?</td>\n",
       "    </tr>\n",
       "    <tr>\n",
       "      <th>1537</th>\n",
       "      <td>Astronomy</td>\n",
       "      <td>M31 - The Andromeda Galaxy</td>\n",
       "    </tr>\n",
       "    <tr>\n",
       "      <th>1553</th>\n",
       "      <td>Astronomy</td>\n",
       "      <td>The Flaming Star</td>\n",
       "    </tr>\n",
       "    <tr>\n",
       "      <th>1554</th>\n",
       "      <td>Astronomy</td>\n",
       "      <td>The Flaming Star</td>\n",
       "    </tr>\n",
       "    <tr>\n",
       "      <th>1558</th>\n",
       "      <td>Astronomy</td>\n",
       "      <td>The Flaming Star</td>\n",
       "    </tr>\n",
       "    <tr>\n",
       "      <th>1605</th>\n",
       "      <td>Astronomy</td>\n",
       "      <td>Cosmic Valentine: The Heart Nebula.</td>\n",
       "    </tr>\n",
       "    <tr>\n",
       "      <th>1606</th>\n",
       "      <td>Astronomy</td>\n",
       "      <td>Cosmic Valentine: The Heart Nebula.</td>\n",
       "    </tr>\n",
       "    <tr>\n",
       "      <th>1608</th>\n",
       "      <td>Astronomy</td>\n",
       "      <td>The Orion Nebula</td>\n",
       "    </tr>\n",
       "    <tr>\n",
       "      <th>1660</th>\n",
       "      <td>Astronomy</td>\n",
       "      <td>Woow it is anti-Matter</td>\n",
       "    </tr>\n",
       "    <tr>\n",
       "      <th>1692</th>\n",
       "      <td>Astronomy</td>\n",
       "      <td>The Orion Nebula</td>\n",
       "    </tr>\n",
       "    <tr>\n",
       "      <th>1694</th>\n",
       "      <td>Astronomy</td>\n",
       "      <td>21 Full Moon</td>\n",
       "    </tr>\n",
       "    <tr>\n",
       "      <th>1727</th>\n",
       "      <td>Astronomy</td>\n",
       "      <td>If planets were as close as the moon, we would have awesome sky views, what's your favorite one?</td>\n",
       "    </tr>\n",
       "    <tr>\n",
       "      <th>1731</th>\n",
       "      <td>Astronomy</td>\n",
       "      <td>The moon captured by my telescope Dobson 8\" 🌛</td>\n",
       "    </tr>\n",
       "    <tr>\n",
       "      <th>1732</th>\n",
       "      <td>Astronomy</td>\n",
       "      <td>The moon captured by my telescope Dobson 8\" 🌛</td>\n",
       "    </tr>\n",
       "    <tr>\n",
       "      <th>1774</th>\n",
       "      <td>Astronomy</td>\n",
       "      <td>This night's shining Moon</td>\n",
       "    </tr>\n",
       "    <tr>\n",
       "      <th>1789</th>\n",
       "      <td>Astronomy</td>\n",
       "      <td>Colours of The Moon</td>\n",
       "    </tr>\n",
       "    <tr>\n",
       "      <th>1792</th>\n",
       "      <td>Astronomy</td>\n",
       "      <td>This Solar System Animation looks so cool. The details are breathtaking.</td>\n",
       "    </tr>\n",
       "    <tr>\n",
       "      <th>1803</th>\n",
       "      <td>Astronomy</td>\n",
       "      <td>Time travel</td>\n",
       "    </tr>\n",
       "    <tr>\n",
       "      <th>1813</th>\n",
       "      <td>Astronomy</td>\n",
       "      <td>Sirius</td>\n",
       "    </tr>\n",
       "    <tr>\n",
       "      <th>1815</th>\n",
       "      <td>Astronomy</td>\n",
       "      <td>Sirius</td>\n",
       "    </tr>\n",
       "    <tr>\n",
       "      <th>1817</th>\n",
       "      <td>Astronomy</td>\n",
       "      <td>Sirius</td>\n",
       "    </tr>\n",
       "    <tr>\n",
       "      <th>1849</th>\n",
       "      <td>Astronomy</td>\n",
       "      <td>Orion Nebula</td>\n",
       "    </tr>\n",
       "    <tr>\n",
       "      <th>1861</th>\n",
       "      <td>Astronomy</td>\n",
       "      <td>M31 - The Andromeda Galaxy</td>\n",
       "    </tr>\n",
       "    <tr>\n",
       "      <th>1887</th>\n",
       "      <td>Astronomy</td>\n",
       "      <td>Discovery Alert: First Six-star System Where All Six Stars Undergo Eclipses</td>\n",
       "    </tr>\n",
       "    <tr>\n",
       "      <th>1922</th>\n",
       "      <td>Astronomy</td>\n",
       "      <td>Colours of The Moon</td>\n",
       "    </tr>\n",
       "    <tr>\n",
       "      <th>1938</th>\n",
       "      <td>Astronomy</td>\n",
       "      <td>The Orion Nebula</td>\n",
       "    </tr>\n",
       "    <tr>\n",
       "      <th>1963</th>\n",
       "      <td>Astronomy</td>\n",
       "      <td>James Webb Telescope - Everything You Need To Know!</td>\n",
       "    </tr>\n",
       "    <tr>\n",
       "      <th>1992</th>\n",
       "      <td>Astronomy</td>\n",
       "      <td>Investing in light-years knowledge?</td>\n",
       "    </tr>\n",
       "    <tr>\n",
       "      <th>1993</th>\n",
       "      <td>Astronomy</td>\n",
       "      <td>Investing in light-years knowledge?</td>\n",
       "    </tr>\n",
       "  </tbody>\n",
       "</table>\n",
       "</div>"
      ],
      "text/plain": [
       "      subreddit  \\\n",
       "1406  Astronomy   \n",
       "1410  Astronomy   \n",
       "1432  Astronomy   \n",
       "1439  Astronomy   \n",
       "1440  Astronomy   \n",
       "1491  Astronomy   \n",
       "1492  Astronomy   \n",
       "1493  Astronomy   \n",
       "1515  Astronomy   \n",
       "1521  Astronomy   \n",
       "1522  Astronomy   \n",
       "1535  Astronomy   \n",
       "1537  Astronomy   \n",
       "1553  Astronomy   \n",
       "1554  Astronomy   \n",
       "1558  Astronomy   \n",
       "1605  Astronomy   \n",
       "1606  Astronomy   \n",
       "1608  Astronomy   \n",
       "1660  Astronomy   \n",
       "1692  Astronomy   \n",
       "1694  Astronomy   \n",
       "1727  Astronomy   \n",
       "1731  Astronomy   \n",
       "1732  Astronomy   \n",
       "1774  Astronomy   \n",
       "1789  Astronomy   \n",
       "1792  Astronomy   \n",
       "1803  Astronomy   \n",
       "1813  Astronomy   \n",
       "1815  Astronomy   \n",
       "1817  Astronomy   \n",
       "1849  Astronomy   \n",
       "1861  Astronomy   \n",
       "1887  Astronomy   \n",
       "1922  Astronomy   \n",
       "1938  Astronomy   \n",
       "1963  Astronomy   \n",
       "1992  Astronomy   \n",
       "1993  Astronomy   \n",
       "\n",
       "                                                                                                 title  \n",
       "1406                                                                                      Orion Nebula  \n",
       "1410                    Starship from SpaceX is going to have a new landing sytem after two explosions  \n",
       "1432                                                                         The Jack-o-Lantern Nebula  \n",
       "1439                                                         Dinosaurs, consider yourselves avenged...  \n",
       "1440                                                         Dinosaurs, consider yourselves avenged...  \n",
       "1491                                                                             The California Nebula  \n",
       "1492                                                                             The California Nebula  \n",
       "1493                                                     TESS Discovers New Worlds in a River of Stars  \n",
       "1515                                                                 Perseverance, The Journey To Mars  \n",
       "1521                                             Crescent Moon composite with animated twinkling stars  \n",
       "1522                                             Crescent Moon composite with animated twinkling stars  \n",
       "1535                                                        Are there more ridges like Rima Ariadaeus?  \n",
       "1537                                                                        M31 - The Andromeda Galaxy  \n",
       "1553                                                                                  The Flaming Star  \n",
       "1554                                                                                  The Flaming Star  \n",
       "1558                                                                                  The Flaming Star  \n",
       "1605                                                               Cosmic Valentine: The Heart Nebula.  \n",
       "1606                                                               Cosmic Valentine: The Heart Nebula.  \n",
       "1608                                                                                  The Orion Nebula  \n",
       "1660                                                                            Woow it is anti-Matter  \n",
       "1692                                                                                  The Orion Nebula  \n",
       "1694                                                                                      21 Full Moon  \n",
       "1727  If planets were as close as the moon, we would have awesome sky views, what's your favorite one?  \n",
       "1731                                                     The moon captured by my telescope Dobson 8\" 🌛  \n",
       "1732                                                     The moon captured by my telescope Dobson 8\" 🌛  \n",
       "1774                                                                         This night's shining Moon  \n",
       "1789                                                                               Colours of The Moon  \n",
       "1792                          This Solar System Animation looks so cool. The details are breathtaking.  \n",
       "1803                                                                                       Time travel  \n",
       "1813                                                                                            Sirius  \n",
       "1815                                                                                            Sirius  \n",
       "1817                                                                                            Sirius  \n",
       "1849                                                                                      Orion Nebula  \n",
       "1861                                                                        M31 - The Andromeda Galaxy  \n",
       "1887                       Discovery Alert: First Six-star System Where All Six Stars Undergo Eclipses  \n",
       "1922                                                                               Colours of The Moon  \n",
       "1938                                                                                  The Orion Nebula  \n",
       "1963                                               James Webb Telescope - Everything You Need To Know!  \n",
       "1992                                                               Investing in light-years knowledge?  \n",
       "1993                                                               Investing in light-years knowledge?  "
      ]
     },
     "execution_count": 6,
     "metadata": {},
     "output_type": "execute_result"
    }
   ],
   "source": [
    "all_posts[all_posts.duplicated(['title'], keep=False)].tail(40)"
   ]
  },
  {
   "cell_type": "markdown",
   "metadata": {},
   "source": [
    "### If I had more time I would look further into this"
   ]
  },
  {
   "cell_type": "code",
   "execution_count": 7,
   "metadata": {},
   "outputs": [
    {
     "data": {
      "text/plain": [
       "(1930, 2)"
      ]
     },
     "execution_count": 7,
     "metadata": {},
     "output_type": "execute_result"
    }
   ],
   "source": [
    "all_posts.drop_duplicates('title', keep='first', inplace=True)\n",
    "all_posts.shape"
   ]
  },
  {
   "cell_type": "markdown",
   "metadata": {},
   "source": [
    "### Making new columns with different text features"
   ]
  },
  {
   "cell_type": "code",
   "execution_count": 8,
   "metadata": {},
   "outputs": [],
   "source": [
    "all_posts['title_char_length'] = all_posts['title'].str.len()"
   ]
  },
  {
   "cell_type": "code",
   "execution_count": 9,
   "metadata": {},
   "outputs": [],
   "source": [
    "all_posts['title_word_count'] = [len(i.split()) for i in all_posts['title']]"
   ]
  },
  {
   "cell_type": "code",
   "execution_count": 10,
   "metadata": {},
   "outputs": [
    {
     "data": {
      "text/plain": [
       "(1930, 4)"
      ]
     },
     "execution_count": 10,
     "metadata": {},
     "output_type": "execute_result"
    }
   ],
   "source": [
    "all_posts.shape"
   ]
  },
  {
   "cell_type": "code",
   "execution_count": 46,
   "metadata": {},
   "outputs": [
    {
     "data": {
      "text/plain": [
       "1930"
      ]
     },
     "execution_count": 46,
     "metadata": {},
     "output_type": "execute_result"
    }
   ],
   "source": [
    "all_posts['title'].str.count('NASA').count()"
   ]
  },
  {
   "cell_type": "code",
   "execution_count": 48,
   "metadata": {},
   "outputs": [],
   "source": [
    "## do after the cohort and find a way to make it work\n",
    "# all_posts.loc['Astronomy']"
   ]
  },
  {
   "cell_type": "code",
   "execution_count": 11,
   "metadata": {},
   "outputs": [
    {
     "data": {
      "text/html": [
       "<div>\n",
       "<style scoped>\n",
       "    .dataframe tbody tr th:only-of-type {\n",
       "        vertical-align: middle;\n",
       "    }\n",
       "\n",
       "    .dataframe tbody tr th {\n",
       "        vertical-align: top;\n",
       "    }\n",
       "\n",
       "    .dataframe thead th {\n",
       "        text-align: right;\n",
       "    }\n",
       "</style>\n",
       "<table border=\"1\" class=\"dataframe\">\n",
       "  <thead>\n",
       "    <tr style=\"text-align: right;\">\n",
       "      <th></th>\n",
       "      <th>subreddit</th>\n",
       "      <th>title</th>\n",
       "      <th>title_char_length</th>\n",
       "      <th>title_word_count</th>\n",
       "    </tr>\n",
       "  </thead>\n",
       "  <tbody>\n",
       "    <tr>\n",
       "      <th>0</th>\n",
       "      <td>nasa</td>\n",
       "      <td>Marshall Spinoffs Increase 3D Printing Capabilities, Tackle Foot Odor</td>\n",
       "      <td>69</td>\n",
       "      <td>9</td>\n",
       "    </tr>\n",
       "    <tr>\n",
       "      <th>1</th>\n",
       "      <td>nasa</td>\n",
       "      <td>NASA's Perseverance rover has the same processor as an iMac from 1998</td>\n",
       "      <td>69</td>\n",
       "      <td>12</td>\n",
       "    </tr>\n",
       "    <tr>\n",
       "      <th>2</th>\n",
       "      <td>nasa</td>\n",
       "      <td>Possible heat shield in perseverance panorama?</td>\n",
       "      <td>46</td>\n",
       "      <td>6</td>\n",
       "    </tr>\n",
       "  </tbody>\n",
       "</table>\n",
       "</div>"
      ],
      "text/plain": [
       "  subreddit  \\\n",
       "0      nasa   \n",
       "1      nasa   \n",
       "2      nasa   \n",
       "\n",
       "                                                                   title  \\\n",
       "0  Marshall Spinoffs Increase 3D Printing Capabilities, Tackle Foot Odor   \n",
       "1  NASA's Perseverance rover has the same processor as an iMac from 1998   \n",
       "2                         Possible heat shield in perseverance panorama?   \n",
       "\n",
       "   title_char_length  title_word_count  \n",
       "0                 69                 9  \n",
       "1                 69                12  \n",
       "2                 46                 6  "
      ]
     },
     "execution_count": 11,
     "metadata": {},
     "output_type": "execute_result"
    }
   ],
   "source": [
    "all_posts.head(3)"
   ]
  },
  {
   "cell_type": "markdown",
   "metadata": {},
   "source": [
    "### Finding the longest and shortest posts and with the most and least words"
   ]
  },
  {
   "cell_type": "code",
   "execution_count": 12,
   "metadata": {},
   "outputs": [
    {
     "data": {
      "text/html": [
       "<div>\n",
       "<style scoped>\n",
       "    .dataframe tbody tr th:only-of-type {\n",
       "        vertical-align: middle;\n",
       "    }\n",
       "\n",
       "    .dataframe tbody tr th {\n",
       "        vertical-align: top;\n",
       "    }\n",
       "\n",
       "    .dataframe thead th {\n",
       "        text-align: right;\n",
       "    }\n",
       "</style>\n",
       "<table border=\"1\" class=\"dataframe\">\n",
       "  <thead>\n",
       "    <tr style=\"text-align: right;\">\n",
       "      <th></th>\n",
       "      <th>title</th>\n",
       "    </tr>\n",
       "  </thead>\n",
       "  <tbody>\n",
       "    <tr>\n",
       "      <th>177</th>\n",
       "      <td>NASA's Swift Helps Tie Neutrino to Star-shredding Black Hole. For only the 2nd time, astronomers have linked an elusive high-energy neutrino to an object outside our galaxy. Using ground &amp;amp; space-based facilities, including NASA’s Swift, they traced the neutrino to a black hole tearing apart a star.</td>\n",
       "    </tr>\n",
       "    <tr>\n",
       "      <th>1420</th>\n",
       "      <td>Perseverance will start roving around Mars in just a few short days. Equipped with a rock-blasting laser, microphones, a helicopter, and much more, the rover it will hunt for ancient life, cache samples for return to Earth, and pave the way for human explorers by plucking oxygen from Mars' thin air.</td>\n",
       "    </tr>\n",
       "    <tr>\n",
       "      <th>1175</th>\n",
       "      <td>Rosette nebula before and after better image processing. Starting to learn star removal and process the image and add the stars back without over exposure. Svbony sv48 90mm Canon eos 2000D / T7 Skywatcher Az gti go-to mount in equatorial mode Home made polar scope Various filters CLS, UHC, UV / IR</td>\n",
       "    </tr>\n",
       "    <tr>\n",
       "      <th>831</th>\n",
       "      <td>STS-51L Flight Director Jay Greene and Assistant Flight Director Lee Briscoe react following the breakup of Challenger on January 28, 1986. 17 years later Greene and Briscoe both watched from the Director's suite at Mission Control as another team of flight controllers lost contact with Columbia.</td>\n",
       "    </tr>\n",
       "    <tr>\n",
       "      <th>809</th>\n",
       "      <td>When the Senate approved SLS their requirements were so specific you’d think they were rocket engineers. They wanted 130 tons of lift with an upper stage, liquid fuel engines, solid rocket motor engines, Shuttle and Ares 1 tech reused. \"It was like an aerospace industry wish list—because it was.\"</td>\n",
       "    </tr>\n",
       "  </tbody>\n",
       "</table>\n",
       "</div>"
      ],
      "text/plain": [
       "                                                                                                                                                                                                                                                                                                                title\n",
       "177   NASA's Swift Helps Tie Neutrino to Star-shredding Black Hole. For only the 2nd time, astronomers have linked an elusive high-energy neutrino to an object outside our galaxy. Using ground &amp; space-based facilities, including NASA’s Swift, they traced the neutrino to a black hole tearing apart a star.\n",
       "1420     Perseverance will start roving around Mars in just a few short days. Equipped with a rock-blasting laser, microphones, a helicopter, and much more, the rover it will hunt for ancient life, cache samples for return to Earth, and pave the way for human explorers by plucking oxygen from Mars' thin air.\n",
       "1175       Rosette nebula before and after better image processing. Starting to learn star removal and process the image and add the stars back without over exposure. Svbony sv48 90mm Canon eos 2000D / T7 Skywatcher Az gti go-to mount in equatorial mode Home made polar scope Various filters CLS, UHC, UV / IR\n",
       "831         STS-51L Flight Director Jay Greene and Assistant Flight Director Lee Briscoe react following the breakup of Challenger on January 28, 1986. 17 years later Greene and Briscoe both watched from the Director's suite at Mission Control as another team of flight controllers lost contact with Columbia.\n",
       "809         When the Senate approved SLS their requirements were so specific you’d think they were rocket engineers. They wanted 130 tons of lift with an upper stage, liquid fuel engines, solid rocket motor engines, Shuttle and Ares 1 tech reused. \"It was like an aerospace industry wish list—because it was.\""
      ]
     },
     "execution_count": 12,
     "metadata": {},
     "output_type": "execute_result"
    }
   ],
   "source": [
    "all_posts.sort_values(by='title_char_length', ascending=False)[['title']].head(5)"
   ]
  },
  {
   "cell_type": "code",
   "execution_count": 13,
   "metadata": {},
   "outputs": [
    {
     "data": {
      "text/html": [
       "<div>\n",
       "<style scoped>\n",
       "    .dataframe tbody tr th:only-of-type {\n",
       "        vertical-align: middle;\n",
       "    }\n",
       "\n",
       "    .dataframe tbody tr th {\n",
       "        vertical-align: top;\n",
       "    }\n",
       "\n",
       "    .dataframe thead th {\n",
       "        text-align: right;\n",
       "    }\n",
       "</style>\n",
       "<table border=\"1\" class=\"dataframe\">\n",
       "  <thead>\n",
       "    <tr style=\"text-align: right;\">\n",
       "      <th></th>\n",
       "      <th>title</th>\n",
       "    </tr>\n",
       "  </thead>\n",
       "  <tbody>\n",
       "    <tr>\n",
       "      <th>1334</th>\n",
       "      <td>🌔</td>\n",
       "    </tr>\n",
       "    <tr>\n",
       "      <th>1004</th>\n",
       "      <td>m2</td>\n",
       "    </tr>\n",
       "    <tr>\n",
       "      <th>1003</th>\n",
       "      <td>m42</td>\n",
       "    </tr>\n",
       "    <tr>\n",
       "      <th>1645</th>\n",
       "      <td>Rocc</td>\n",
       "    </tr>\n",
       "    <tr>\n",
       "      <th>1034</th>\n",
       "      <td>Meh?</td>\n",
       "    </tr>\n",
       "  </tbody>\n",
       "</table>\n",
       "</div>"
      ],
      "text/plain": [
       "     title\n",
       "1334     🌔\n",
       "1004    m2\n",
       "1003   m42\n",
       "1645  Rocc\n",
       "1034  Meh?"
      ]
     },
     "execution_count": 13,
     "metadata": {},
     "output_type": "execute_result"
    }
   ],
   "source": [
    "all_posts.sort_values(by='title_char_length', ascending=True)[['title']].head(5)"
   ]
  },
  {
   "cell_type": "code",
   "execution_count": 14,
   "metadata": {},
   "outputs": [
    {
     "data": {
      "text/html": [
       "<div>\n",
       "<style scoped>\n",
       "    .dataframe tbody tr th:only-of-type {\n",
       "        vertical-align: middle;\n",
       "    }\n",
       "\n",
       "    .dataframe tbody tr th {\n",
       "        vertical-align: top;\n",
       "    }\n",
       "\n",
       "    .dataframe thead th {\n",
       "        text-align: right;\n",
       "    }\n",
       "</style>\n",
       "<table border=\"1\" class=\"dataframe\">\n",
       "  <thead>\n",
       "    <tr style=\"text-align: right;\">\n",
       "      <th></th>\n",
       "      <th>title</th>\n",
       "    </tr>\n",
       "  </thead>\n",
       "  <tbody>\n",
       "    <tr>\n",
       "      <th>971</th>\n",
       "      <td>A few years back my papaw gifted me some trinkets from when he worked with NASA in the 60's, I've worn the Gemini for a while (which is why it looks so clean). I would love to know if they have any history to them or were just bought in a random gift shop. Any information appreciated!</td>\n",
       "    </tr>\n",
       "    <tr>\n",
       "      <th>548</th>\n",
       "      <td>I believe they built a tesseract. And that the Pyramid of Giza is the tip of such pyramid the even aligns with the end of Orian. And above stonehenge matches the craft I saw as I was driving west from winnemuca nevada. Raise Giza in the air so that the base surface reaches the 360 around Earth</td>\n",
       "    </tr>\n",
       "    <tr>\n",
       "      <th>1337</th>\n",
       "      <td>I just started out some astrophotography but... is mars supposed to twinkle? I saw that mars was near the moon on skywalk and I could see a bright dot in the sky + there were no other stated bright stars near it- am I zooming onto the wrong thing? Someone please explain how this works</td>\n",
       "    </tr>\n",
       "    <tr>\n",
       "      <th>36</th>\n",
       "      <td>Is it true that it is impossible to sterilize 100% of some parts of the Rovers' instruments that go to Mars? And as we once saw on the outside of an ISS window some form of life proliferating, what are the real possibilities of having terrestrial microscopic life evolving on Mars right now?</td>\n",
       "    </tr>\n",
       "    <tr>\n",
       "      <th>838</th>\n",
       "      <td>Fun Fact: While Neil Armstrong was the first person to walk on the moon, 22 year old Karl Jacobs was the first to land on the moon in 1967, over a year before the Apollo 11 Mission. Unfortunately due to extreme conditions Karl never made it back down to Earth (Colorized Second Photo)</td>\n",
       "    </tr>\n",
       "  </tbody>\n",
       "</table>\n",
       "</div>"
      ],
      "text/plain": [
       "                                                                                                                                                                                                                                                                                                       title\n",
       "971            A few years back my papaw gifted me some trinkets from when he worked with NASA in the 60's, I've worn the Gemini for a while (which is why it looks so clean). I would love to know if they have any history to them or were just bought in a random gift shop. Any information appreciated!\n",
       "548   I believe they built a tesseract. And that the Pyramid of Giza is the tip of such pyramid the even aligns with the end of Orian. And above stonehenge matches the craft I saw as I was driving west from winnemuca nevada. Raise Giza in the air so that the base surface reaches the 360 around Earth\n",
       "1337           I just started out some astrophotography but... is mars supposed to twinkle? I saw that mars was near the moon on skywalk and I could see a bright dot in the sky + there were no other stated bright stars near it- am I zooming onto the wrong thing? Someone please explain how this works\n",
       "36       Is it true that it is impossible to sterilize 100% of some parts of the Rovers' instruments that go to Mars? And as we once saw on the outside of an ISS window some form of life proliferating, what are the real possibilities of having terrestrial microscopic life evolving on Mars right now?\n",
       "838             Fun Fact: While Neil Armstrong was the first person to walk on the moon, 22 year old Karl Jacobs was the first to land on the moon in 1967, over a year before the Apollo 11 Mission. Unfortunately due to extreme conditions Karl never made it back down to Earth (Colorized Second Photo)"
      ]
     },
     "execution_count": 14,
     "metadata": {},
     "output_type": "execute_result"
    }
   ],
   "source": [
    "all_posts.sort_values(by='title_word_count', ascending=False)[['title']].head(5)"
   ]
  },
  {
   "cell_type": "code",
   "execution_count": 15,
   "metadata": {},
   "outputs": [
    {
     "data": {
      "text/html": [
       "<div>\n",
       "<style scoped>\n",
       "    .dataframe tbody tr th:only-of-type {\n",
       "        vertical-align: middle;\n",
       "    }\n",
       "\n",
       "    .dataframe tbody tr th {\n",
       "        vertical-align: top;\n",
       "    }\n",
       "\n",
       "    .dataframe thead th {\n",
       "        text-align: right;\n",
       "    }\n",
       "</style>\n",
       "<table border=\"1\" class=\"dataframe\">\n",
       "  <thead>\n",
       "    <tr style=\"text-align: right;\">\n",
       "      <th></th>\n",
       "      <th>title</th>\n",
       "    </tr>\n",
       "  </thead>\n",
       "  <tbody>\n",
       "    <tr>\n",
       "      <th>445</th>\n",
       "      <td>PERSEVERANCE</td>\n",
       "    </tr>\n",
       "    <tr>\n",
       "      <th>1203</th>\n",
       "      <td>questioooon</td>\n",
       "    </tr>\n",
       "    <tr>\n",
       "      <th>37</th>\n",
       "      <td>Mars.</td>\n",
       "    </tr>\n",
       "    <tr>\n",
       "      <th>40</th>\n",
       "      <td>Raptor</td>\n",
       "    </tr>\n",
       "    <tr>\n",
       "      <th>188</th>\n",
       "      <td>Aliens</td>\n",
       "    </tr>\n",
       "  </tbody>\n",
       "</table>\n",
       "</div>"
      ],
      "text/plain": [
       "             title\n",
       "445   PERSEVERANCE\n",
       "1203   questioooon\n",
       "37           Mars.\n",
       "40          Raptor\n",
       "188         Aliens"
      ]
     },
     "execution_count": 15,
     "metadata": {},
     "output_type": "execute_result"
    }
   ],
   "source": [
    "all_posts.sort_values(by='title_word_count', ascending=True)[['title']].head(5)"
   ]
  },
  {
   "cell_type": "markdown",
   "metadata": {},
   "source": [
    "# Visualizations"
   ]
  },
  {
   "cell_type": "code",
   "execution_count": 52,
   "metadata": {},
   "outputs": [
    {
     "data": {
      "image/png": "[encoded data removed]",
      "text/plain": [
       "<Figure size 432x288 with 1 Axes>"
      ]
     },
     "metadata": {
      "needs_background": "light"
     },
     "output_type": "display_data"
    }
   ],
   "source": [
    "plt.hist(all_posts.title_word_count)\n",
    "plt.title('Word Count');"
   ]
  },
  {
   "cell_type": "code",
   "execution_count": 53,
   "metadata": {},
   "outputs": [
    {
     "data": {
      "image/png": "[encoded data removed]",
      "text/plain": [
       "<Figure size 432x288 with 1 Axes>"
      ]
     },
     "metadata": {
      "needs_background": "light"
     },
     "output_type": "display_data"
    }
   ],
   "source": [
    "plt.hist(all_posts.title_char_length)\n",
    "plt.title('Character Length');"
   ]
  },
  {
   "cell_type": "markdown",
   "metadata": {},
   "source": [
    "# Modeling Process and setting up various models"
   ]
  },
  {
   "cell_type": "code",
   "execution_count": 18,
   "metadata": {},
   "outputs": [],
   "source": [
    "X = all_posts['title']\n",
    "y = all_posts['subreddit']"
   ]
  },
  {
   "cell_type": "code",
   "execution_count": 19,
   "metadata": {},
   "outputs": [],
   "source": [
    "X_train, X_test, y_train, y_test = train_test_split(X, y, random_state=42, stratify=y)"
   ]
  },
  {
   "cell_type": "markdown",
   "metadata": {},
   "source": [
    "## Preprocessing"
   ]
  },
  {
   "cell_type": "code",
   "execution_count": 20,
   "metadata": {},
   "outputs": [],
   "source": [
    "cv = CountVectorizer()"
   ]
  },
  {
   "cell_type": "code",
   "execution_count": 21,
   "metadata": {},
   "outputs": [],
   "source": [
    "X_train_cv = cv.fit_transform(X_train)"
   ]
  },
  {
   "cell_type": "code",
   "execution_count": 22,
   "metadata": {},
   "outputs": [],
   "source": [
    "X_test_cv = cv.transform(X_test)"
   ]
  },
  {
   "cell_type": "code",
   "execution_count": 23,
   "metadata": {
    "collapsed": true,
    "jupyter": {
     "outputs_hidden": true
    }
   },
   "outputs": [
    {
     "data": {
      "text/html": [
       "<div>\n",
       "<style scoped>\n",
       "    .dataframe tbody tr th:only-of-type {\n",
       "        vertical-align: middle;\n",
       "    }\n",
       "\n",
       "    .dataframe tbody tr th {\n",
       "        vertical-align: top;\n",
       "    }\n",
       "\n",
       "    .dataframe thead th {\n",
       "        text-align: right;\n",
       "    }\n",
       "</style>\n",
       "<table border=\"1\" class=\"dataframe\">\n",
       "  <thead>\n",
       "    <tr style=\"text-align: right;\">\n",
       "      <th></th>\n",
       "      <th>0</th>\n",
       "      <th>1</th>\n",
       "      <th>2</th>\n",
       "      <th>3</th>\n",
       "      <th>4</th>\n",
       "      <th>5</th>\n",
       "      <th>6</th>\n",
       "      <th>7</th>\n",
       "      <th>8</th>\n",
       "      <th>9</th>\n",
       "      <th>...</th>\n",
       "      <th>3594</th>\n",
       "      <th>3595</th>\n",
       "      <th>3596</th>\n",
       "      <th>3597</th>\n",
       "      <th>3598</th>\n",
       "      <th>3599</th>\n",
       "      <th>3600</th>\n",
       "      <th>3601</th>\n",
       "      <th>3602</th>\n",
       "      <th>3603</th>\n",
       "    </tr>\n",
       "  </thead>\n",
       "  <tbody>\n",
       "    <tr>\n",
       "      <th>0</th>\n",
       "      <td>0</td>\n",
       "      <td>0</td>\n",
       "      <td>0</td>\n",
       "      <td>0</td>\n",
       "      <td>0</td>\n",
       "      <td>0</td>\n",
       "      <td>0</td>\n",
       "      <td>0</td>\n",
       "      <td>0</td>\n",
       "      <td>0</td>\n",
       "      <td>...</td>\n",
       "      <td>0</td>\n",
       "      <td>0</td>\n",
       "      <td>0</td>\n",
       "      <td>0</td>\n",
       "      <td>0</td>\n",
       "      <td>0</td>\n",
       "      <td>0</td>\n",
       "      <td>0</td>\n",
       "      <td>0</td>\n",
       "      <td>0</td>\n",
       "    </tr>\n",
       "    <tr>\n",
       "      <th>1</th>\n",
       "      <td>0</td>\n",
       "      <td>0</td>\n",
       "      <td>0</td>\n",
       "      <td>0</td>\n",
       "      <td>0</td>\n",
       "      <td>0</td>\n",
       "      <td>0</td>\n",
       "      <td>0</td>\n",
       "      <td>0</td>\n",
       "      <td>0</td>\n",
       "      <td>...</td>\n",
       "      <td>0</td>\n",
       "      <td>0</td>\n",
       "      <td>0</td>\n",
       "      <td>0</td>\n",
       "      <td>0</td>\n",
       "      <td>0</td>\n",
       "      <td>0</td>\n",
       "      <td>0</td>\n",
       "      <td>0</td>\n",
       "      <td>0</td>\n",
       "    </tr>\n",
       "    <tr>\n",
       "      <th>2</th>\n",
       "      <td>0</td>\n",
       "      <td>0</td>\n",
       "      <td>0</td>\n",
       "      <td>0</td>\n",
       "      <td>0</td>\n",
       "      <td>0</td>\n",
       "      <td>0</td>\n",
       "      <td>0</td>\n",
       "      <td>0</td>\n",
       "      <td>0</td>\n",
       "      <td>...</td>\n",
       "      <td>0</td>\n",
       "      <td>0</td>\n",
       "      <td>0</td>\n",
       "      <td>0</td>\n",
       "      <td>0</td>\n",
       "      <td>0</td>\n",
       "      <td>0</td>\n",
       "      <td>0</td>\n",
       "      <td>0</td>\n",
       "      <td>0</td>\n",
       "    </tr>\n",
       "    <tr>\n",
       "      <th>3</th>\n",
       "      <td>0</td>\n",
       "      <td>0</td>\n",
       "      <td>0</td>\n",
       "      <td>0</td>\n",
       "      <td>0</td>\n",
       "      <td>0</td>\n",
       "      <td>0</td>\n",
       "      <td>0</td>\n",
       "      <td>0</td>\n",
       "      <td>0</td>\n",
       "      <td>...</td>\n",
       "      <td>0</td>\n",
       "      <td>0</td>\n",
       "      <td>0</td>\n",
       "      <td>0</td>\n",
       "      <td>0</td>\n",
       "      <td>0</td>\n",
       "      <td>0</td>\n",
       "      <td>0</td>\n",
       "      <td>0</td>\n",
       "      <td>0</td>\n",
       "    </tr>\n",
       "    <tr>\n",
       "      <th>4</th>\n",
       "      <td>0</td>\n",
       "      <td>0</td>\n",
       "      <td>0</td>\n",
       "      <td>0</td>\n",
       "      <td>0</td>\n",
       "      <td>0</td>\n",
       "      <td>0</td>\n",
       "      <td>0</td>\n",
       "      <td>0</td>\n",
       "      <td>0</td>\n",
       "      <td>...</td>\n",
       "      <td>0</td>\n",
       "      <td>0</td>\n",
       "      <td>0</td>\n",
       "      <td>0</td>\n",
       "      <td>0</td>\n",
       "      <td>0</td>\n",
       "      <td>0</td>\n",
       "      <td>0</td>\n",
       "      <td>0</td>\n",
       "      <td>0</td>\n",
       "    </tr>\n",
       "    <tr>\n",
       "      <th>...</th>\n",
       "      <td>...</td>\n",
       "      <td>...</td>\n",
       "      <td>...</td>\n",
       "      <td>...</td>\n",
       "      <td>...</td>\n",
       "      <td>...</td>\n",
       "      <td>...</td>\n",
       "      <td>...</td>\n",
       "      <td>...</td>\n",
       "      <td>...</td>\n",
       "      <td>...</td>\n",
       "      <td>...</td>\n",
       "      <td>...</td>\n",
       "      <td>...</td>\n",
       "      <td>...</td>\n",
       "      <td>...</td>\n",
       "      <td>...</td>\n",
       "      <td>...</td>\n",
       "      <td>...</td>\n",
       "      <td>...</td>\n",
       "      <td>...</td>\n",
       "    </tr>\n",
       "    <tr>\n",
       "      <th>1442</th>\n",
       "      <td>0</td>\n",
       "      <td>0</td>\n",
       "      <td>0</td>\n",
       "      <td>0</td>\n",
       "      <td>0</td>\n",
       "      <td>0</td>\n",
       "      <td>0</td>\n",
       "      <td>0</td>\n",
       "      <td>0</td>\n",
       "      <td>0</td>\n",
       "      <td>...</td>\n",
       "      <td>1</td>\n",
       "      <td>0</td>\n",
       "      <td>1</td>\n",
       "      <td>1</td>\n",
       "      <td>1</td>\n",
       "      <td>1</td>\n",
       "      <td>0</td>\n",
       "      <td>0</td>\n",
       "      <td>0</td>\n",
       "      <td>0</td>\n",
       "    </tr>\n",
       "    <tr>\n",
       "      <th>1443</th>\n",
       "      <td>0</td>\n",
       "      <td>0</td>\n",
       "      <td>0</td>\n",
       "      <td>0</td>\n",
       "      <td>0</td>\n",
       "      <td>0</td>\n",
       "      <td>0</td>\n",
       "      <td>0</td>\n",
       "      <td>0</td>\n",
       "      <td>0</td>\n",
       "      <td>...</td>\n",
       "      <td>0</td>\n",
       "      <td>0</td>\n",
       "      <td>0</td>\n",
       "      <td>0</td>\n",
       "      <td>0</td>\n",
       "      <td>0</td>\n",
       "      <td>0</td>\n",
       "      <td>0</td>\n",
       "      <td>0</td>\n",
       "      <td>0</td>\n",
       "    </tr>\n",
       "    <tr>\n",
       "      <th>1444</th>\n",
       "      <td>0</td>\n",
       "      <td>0</td>\n",
       "      <td>0</td>\n",
       "      <td>0</td>\n",
       "      <td>0</td>\n",
       "      <td>0</td>\n",
       "      <td>0</td>\n",
       "      <td>0</td>\n",
       "      <td>0</td>\n",
       "      <td>0</td>\n",
       "      <td>...</td>\n",
       "      <td>0</td>\n",
       "      <td>0</td>\n",
       "      <td>0</td>\n",
       "      <td>0</td>\n",
       "      <td>0</td>\n",
       "      <td>0</td>\n",
       "      <td>0</td>\n",
       "      <td>0</td>\n",
       "      <td>0</td>\n",
       "      <td>0</td>\n",
       "    </tr>\n",
       "    <tr>\n",
       "      <th>1445</th>\n",
       "      <td>0</td>\n",
       "      <td>0</td>\n",
       "      <td>0</td>\n",
       "      <td>0</td>\n",
       "      <td>0</td>\n",
       "      <td>0</td>\n",
       "      <td>0</td>\n",
       "      <td>0</td>\n",
       "      <td>0</td>\n",
       "      <td>0</td>\n",
       "      <td>...</td>\n",
       "      <td>0</td>\n",
       "      <td>0</td>\n",
       "      <td>0</td>\n",
       "      <td>0</td>\n",
       "      <td>0</td>\n",
       "      <td>0</td>\n",
       "      <td>0</td>\n",
       "      <td>0</td>\n",
       "      <td>0</td>\n",
       "      <td>0</td>\n",
       "    </tr>\n",
       "    <tr>\n",
       "      <th>1446</th>\n",
       "      <td>0</td>\n",
       "      <td>0</td>\n",
       "      <td>0</td>\n",
       "      <td>0</td>\n",
       "      <td>0</td>\n",
       "      <td>0</td>\n",
       "      <td>0</td>\n",
       "      <td>0</td>\n",
       "      <td>0</td>\n",
       "      <td>0</td>\n",
       "      <td>...</td>\n",
       "      <td>0</td>\n",
       "      <td>0</td>\n",
       "      <td>0</td>\n",
       "      <td>0</td>\n",
       "      <td>0</td>\n",
       "      <td>0</td>\n",
       "      <td>0</td>\n",
       "      <td>0</td>\n",
       "      <td>0</td>\n",
       "      <td>0</td>\n",
       "    </tr>\n",
       "  </tbody>\n",
       "</table>\n",
       "<p>1447 rows × 3604 columns</p>\n",
       "</div>"
      ],
      "text/plain": [
       "      0     1     2     3     4     5     6     7     8     9     ...  3594  \\\n",
       "0        0     0     0     0     0     0     0     0     0     0  ...     0   \n",
       "1        0     0     0     0     0     0     0     0     0     0  ...     0   \n",
       "2        0     0     0     0     0     0     0     0     0     0  ...     0   \n",
       "3        0     0     0     0     0     0     0     0     0     0  ...     0   \n",
       "4        0     0     0     0     0     0     0     0     0     0  ...     0   \n",
       "...    ...   ...   ...   ...   ...   ...   ...   ...   ...   ...  ...   ...   \n",
       "1442     0     0     0     0     0     0     0     0     0     0  ...     1   \n",
       "1443     0     0     0     0     0     0     0     0     0     0  ...     0   \n",
       "1444     0     0     0     0     0     0     0     0     0     0  ...     0   \n",
       "1445     0     0     0     0     0     0     0     0     0     0  ...     0   \n",
       "1446     0     0     0     0     0     0     0     0     0     0  ...     0   \n",
       "\n",
       "      3595  3596  3597  3598  3599  3600  3601  3602  3603  \n",
       "0        0     0     0     0     0     0     0     0     0  \n",
       "1        0     0     0     0     0     0     0     0     0  \n",
       "2        0     0     0     0     0     0     0     0     0  \n",
       "3        0     0     0     0     0     0     0     0     0  \n",
       "4        0     0     0     0     0     0     0     0     0  \n",
       "...    ...   ...   ...   ...   ...   ...   ...   ...   ...  \n",
       "1442     0     1     1     1     1     0     0     0     0  \n",
       "1443     0     0     0     0     0     0     0     0     0  \n",
       "1444     0     0     0     0     0     0     0     0     0  \n",
       "1445     0     0     0     0     0     0     0     0     0  \n",
       "1446     0     0     0     0     0     0     0     0     0  \n",
       "\n",
       "[1447 rows x 3604 columns]"
      ]
     },
     "execution_count": 23,
     "metadata": {},
     "output_type": "execute_result"
    }
   ],
   "source": [
    "pd.DataFrame(X_train_cv.todense())"
   ]
  },
  {
   "cell_type": "code",
   "execution_count": 41,
   "metadata": {},
   "outputs": [
    {
     "data": {
      "text/plain": [
       "0    1212\n",
       "1     221\n",
       "2      13\n",
       "3       1\n",
       "Name: nasa, dtype: int64"
      ]
     },
     "execution_count": 41,
     "metadata": {},
     "output_type": "execute_result"
    }
   ],
   "source": [
    "X_train_df['nasa'].value_counts()"
   ]
  },
  {
   "cell_type": "code",
   "execution_count": null,
   "metadata": {},
   "outputs": [],
   "source": []
  },
  {
   "cell_type": "code",
   "execution_count": 24,
   "metadata": {
    "collapsed": true,
    "jupyter": {
     "outputs_hidden": true
    }
   },
   "outputs": [
    {
     "data": {
      "text/plain": [
       "['discussion',\n",
       " 'disintegrated',\n",
       " 'disks',\n",
       " 'disney',\n",
       " 'display',\n",
       " 'displaying',\n",
       " 'disqualify',\n",
       " 'dissonance',\n",
       " 'distance',\n",
       " 'distant',\n",
       " 'disturb',\n",
       " 'dive',\n",
       " 'diy',\n",
       " 'do',\n",
       " 'dob']"
      ]
     },
     "execution_count": 24,
     "metadata": {},
     "output_type": "execute_result"
    }
   ],
   "source": [
    "cv.get_feature_names()[1000:1015]"
   ]
  },
  {
   "cell_type": "code",
   "execution_count": 26,
   "metadata": {},
   "outputs": [],
   "source": [
    "X_train_df = pd.DataFrame(X_train_cv.todense(), columns=cv.get_feature_names())"
   ]
  },
  {
   "cell_type": "code",
   "execution_count": 27,
   "metadata": {
    "collapsed": true,
    "jupyter": {
     "outputs_hidden": true
    }
   },
   "outputs": [
    {
     "data": {
      "text/html": [
       "<div>\n",
       "<style scoped>\n",
       "    .dataframe tbody tr th:only-of-type {\n",
       "        vertical-align: middle;\n",
       "    }\n",
       "\n",
       "    .dataframe tbody tr th {\n",
       "        vertical-align: top;\n",
       "    }\n",
       "\n",
       "    .dataframe thead th {\n",
       "        text-align: right;\n",
       "    }\n",
       "</style>\n",
       "<table border=\"1\" class=\"dataframe\">\n",
       "  <thead>\n",
       "    <tr style=\"text-align: right;\">\n",
       "      <th></th>\n",
       "      <th>000</th>\n",
       "      <th>000016</th>\n",
       "      <th>002</th>\n",
       "      <th>01</th>\n",
       "      <th>02</th>\n",
       "      <th>03</th>\n",
       "      <th>06</th>\n",
       "      <th>10</th>\n",
       "      <th>100</th>\n",
       "      <th>1000</th>\n",
       "      <th>...</th>\n",
       "      <th>علي</th>\n",
       "      <th>كوكب</th>\n",
       "      <th>مساجد</th>\n",
       "      <th>موسى</th>\n",
       "      <th>يؤم</th>\n",
       "      <th>يا</th>\n",
       "      <th>ℂ𝕠𝕡𝕪</th>\n",
       "      <th>ℙ𝕒𝕤𝕥𝕖</th>\n",
       "      <th>𝔽𝕠𝕟𝕥</th>\n",
       "      <th>𝕒𝕟𝕕</th>\n",
       "    </tr>\n",
       "  </thead>\n",
       "  <tbody>\n",
       "    <tr>\n",
       "      <th>0</th>\n",
       "      <td>0</td>\n",
       "      <td>0</td>\n",
       "      <td>0</td>\n",
       "      <td>0</td>\n",
       "      <td>0</td>\n",
       "      <td>0</td>\n",
       "      <td>0</td>\n",
       "      <td>0</td>\n",
       "      <td>0</td>\n",
       "      <td>0</td>\n",
       "      <td>...</td>\n",
       "      <td>0</td>\n",
       "      <td>0</td>\n",
       "      <td>0</td>\n",
       "      <td>0</td>\n",
       "      <td>0</td>\n",
       "      <td>0</td>\n",
       "      <td>0</td>\n",
       "      <td>0</td>\n",
       "      <td>0</td>\n",
       "      <td>0</td>\n",
       "    </tr>\n",
       "    <tr>\n",
       "      <th>1</th>\n",
       "      <td>0</td>\n",
       "      <td>0</td>\n",
       "      <td>0</td>\n",
       "      <td>0</td>\n",
       "      <td>0</td>\n",
       "      <td>0</td>\n",
       "      <td>0</td>\n",
       "      <td>0</td>\n",
       "      <td>0</td>\n",
       "      <td>0</td>\n",
       "      <td>...</td>\n",
       "      <td>0</td>\n",
       "      <td>0</td>\n",
       "      <td>0</td>\n",
       "      <td>0</td>\n",
       "      <td>0</td>\n",
       "      <td>0</td>\n",
       "      <td>0</td>\n",
       "      <td>0</td>\n",
       "      <td>0</td>\n",
       "      <td>0</td>\n",
       "    </tr>\n",
       "    <tr>\n",
       "      <th>2</th>\n",
       "      <td>0</td>\n",
       "      <td>0</td>\n",
       "      <td>0</td>\n",
       "      <td>0</td>\n",
       "      <td>0</td>\n",
       "      <td>0</td>\n",
       "      <td>0</td>\n",
       "      <td>0</td>\n",
       "      <td>0</td>\n",
       "      <td>0</td>\n",
       "      <td>...</td>\n",
       "      <td>0</td>\n",
       "      <td>0</td>\n",
       "      <td>0</td>\n",
       "      <td>0</td>\n",
       "      <td>0</td>\n",
       "      <td>0</td>\n",
       "      <td>0</td>\n",
       "      <td>0</td>\n",
       "      <td>0</td>\n",
       "      <td>0</td>\n",
       "    </tr>\n",
       "    <tr>\n",
       "      <th>3</th>\n",
       "      <td>0</td>\n",
       "      <td>0</td>\n",
       "      <td>0</td>\n",
       "      <td>0</td>\n",
       "      <td>0</td>\n",
       "      <td>0</td>\n",
       "      <td>0</td>\n",
       "      <td>0</td>\n",
       "      <td>0</td>\n",
       "      <td>0</td>\n",
       "      <td>...</td>\n",
       "      <td>0</td>\n",
       "      <td>0</td>\n",
       "      <td>0</td>\n",
       "      <td>0</td>\n",
       "      <td>0</td>\n",
       "      <td>0</td>\n",
       "      <td>0</td>\n",
       "      <td>0</td>\n",
       "      <td>0</td>\n",
       "      <td>0</td>\n",
       "    </tr>\n",
       "    <tr>\n",
       "      <th>4</th>\n",
       "      <td>0</td>\n",
       "      <td>0</td>\n",
       "      <td>0</td>\n",
       "      <td>0</td>\n",
       "      <td>0</td>\n",
       "      <td>0</td>\n",
       "      <td>0</td>\n",
       "      <td>0</td>\n",
       "      <td>0</td>\n",
       "      <td>0</td>\n",
       "      <td>...</td>\n",
       "      <td>0</td>\n",
       "      <td>0</td>\n",
       "      <td>0</td>\n",
       "      <td>0</td>\n",
       "      <td>0</td>\n",
       "      <td>0</td>\n",
       "      <td>0</td>\n",
       "      <td>0</td>\n",
       "      <td>0</td>\n",
       "      <td>0</td>\n",
       "    </tr>\n",
       "  </tbody>\n",
       "</table>\n",
       "<p>5 rows × 3604 columns</p>\n",
       "</div>"
      ],
      "text/plain": [
       "   000  000016  002  01  02  03  06  10  100  1000  ...  علي  كوكب  مساجد  \\\n",
       "0    0       0    0   0   0   0   0   0    0     0  ...    0     0      0   \n",
       "1    0       0    0   0   0   0   0   0    0     0  ...    0     0      0   \n",
       "2    0       0    0   0   0   0   0   0    0     0  ...    0     0      0   \n",
       "3    0       0    0   0   0   0   0   0    0     0  ...    0     0      0   \n",
       "4    0       0    0   0   0   0   0   0    0     0  ...    0     0      0   \n",
       "\n",
       "   موسى  يؤم  يا  ℂ𝕠𝕡𝕪  ℙ𝕒𝕤𝕥𝕖  𝔽𝕠𝕟𝕥  𝕒𝕟𝕕  \n",
       "0     0    0   0     0      0     0    0  \n",
       "1     0    0   0     0      0     0    0  \n",
       "2     0    0   0     0      0     0    0  \n",
       "3     0    0   0     0      0     0    0  \n",
       "4     0    0   0     0      0     0    0  \n",
       "\n",
       "[5 rows x 3604 columns]"
      ]
     },
     "execution_count": 27,
     "metadata": {},
     "output_type": "execute_result"
    }
   ],
   "source": [
    "X_train_df.head()"
   ]
  },
  {
   "cell_type": "code",
   "execution_count": 28,
   "metadata": {
    "collapsed": true,
    "jupyter": {
     "outputs_hidden": true
    }
   },
   "outputs": [
    {
     "data": {
      "text/plain": [
       "the             719\n",
       "of              345\n",
       "to              296\n",
       "nasa            250\n",
       "in              246\n",
       "and             229\n",
       "on              202\n",
       "mars            195\n",
       "is              187\n",
       "perseverance    178\n",
       "for             166\n",
       "my              140\n",
       "this            140\n",
       "with            124\n",
       "from            120\n",
       "dtype: int64"
      ]
     },
     "execution_count": 28,
     "metadata": {},
     "output_type": "execute_result"
    }
   ],
   "source": [
    "X_train_df.sum(axis=0).sort_values(ascending=False).head(15)"
   ]
  },
  {
   "cell_type": "markdown",
   "metadata": {},
   "source": [
    "## Fitting a model, which may turn out to be the main model"
   ]
  },
  {
   "cell_type": "code",
   "execution_count": 29,
   "metadata": {},
   "outputs": [
    {
     "data": {
      "text/plain": [
       "(0.9308914996544575, 0.8115942028985508)"
      ]
     },
     "execution_count": 29,
     "metadata": {},
     "output_type": "execute_result"
    }
   ],
   "source": [
    "mnb = MultinomialNB()\n",
    "mnb.fit(X_train_cv, y_train)\n",
    "\n",
    "mnb.score(X_train_cv, y_train), mnb.score(X_test_cv, y_test)"
   ]
  },
  {
   "cell_type": "markdown",
   "metadata": {},
   "source": [
    "## Other models and pipelines to be considered"
   ]
  },
  {
   "cell_type": "code",
   "execution_count": 30,
   "metadata": {},
   "outputs": [
    {
     "data": {
      "text/plain": [
       "(0.9308914996544575, 0.8115942028985508)"
      ]
     },
     "execution_count": 30,
     "metadata": {},
     "output_type": "execute_result"
    }
   ],
   "source": [
    "pipe = Pipeline([\n",
    "    ('cv', CountVectorizer()),\n",
    "    ('mnb', MultinomialNB())\n",
    "])\n",
    "\n",
    "\n",
    "pipe.fit(X_train, y_train)\n",
    "pipe.score(X_train, y_train), pipe.score(X_test, y_test)"
   ]
  },
  {
   "cell_type": "code",
   "execution_count": 31,
   "metadata": {},
   "outputs": [
    {
     "data": {
      "text/plain": [
       "(0.9668279198341396, 0.8053830227743272)"
      ]
     },
     "execution_count": 31,
     "metadata": {},
     "output_type": "execute_result"
    }
   ],
   "source": [
    "pipe = Pipeline([\n",
    "    ('cv', CountVectorizer()),\n",
    "    ('lr', LogisticRegression())\n",
    "])\n",
    "\n",
    "pipe.fit(X_train, y_train)\n",
    "pipe.score(X_train, y_train), pipe.score(X_test, y_test)"
   ]
  },
  {
   "cell_type": "code",
   "execution_count": 32,
   "metadata": {},
   "outputs": [],
   "source": [
    "pipe = Pipeline([\n",
    "    ('cv', CountVectorizer()),\n",
    "    ('mnb', MultinomialNB())\n",
    "])\n",
    "\n",
    "pipe_params = {\n",
    "    'cv__stop_words': ['english', None],\n",
    "    'cv__max_features': [2000, 3000, 4000, 5000, None],\n",
    "    'cv__min_df': [1, 2, 3, 10, 100],\n",
    "    'cv__max_df': [.90, .95, 1.0],\n",
    "    'cv__ngram_range': [(1,1), (1,2)]\n",
    "}"
   ]
  },
  {
   "cell_type": "markdown",
   "metadata": {},
   "source": [
    "## Gridsearching for the best parameters for a model"
   ]
  },
  {
   "cell_type": "code",
   "execution_count": 33,
   "metadata": {},
   "outputs": [],
   "source": [
    "gs = GridSearchCV(pipe, \n",
    "                  pipe_params, \n",
    "                  cv=5)"
   ]
  },
  {
   "cell_type": "code",
   "execution_count": 34,
   "metadata": {},
   "outputs": [],
   "source": [
    "gs.fit(X_train, y_train);"
   ]
  },
  {
   "cell_type": "code",
   "execution_count": 35,
   "metadata": {},
   "outputs": [
    {
     "data": {
      "text/plain": [
       "{'cv__max_df': 0.9,\n",
       " 'cv__max_features': 2000,\n",
       " 'cv__min_df': 2,\n",
       " 'cv__ngram_range': (1, 1),\n",
       " 'cv__stop_words': None}"
      ]
     },
     "execution_count": 35,
     "metadata": {},
     "output_type": "execute_result"
    }
   ],
   "source": [
    "gs.best_params_"
   ]
  },
  {
   "cell_type": "code",
   "execution_count": 36,
   "metadata": {},
   "outputs": [
    {
     "data": {
      "text/plain": [
       "(0.8928818244644091, 0.8012422360248447)"
      ]
     },
     "execution_count": 36,
     "metadata": {},
     "output_type": "execute_result"
    }
   ],
   "source": [
    "gs.score(X_train, y_train), gs.score(X_test, y_test)"
   ]
  },
  {
   "cell_type": "markdown",
   "metadata": {},
   "source": [
    "## Creating a confusion matrix that shows how many accurate predictions and wrong predictions are in the testing data"
   ]
  },
  {
   "cell_type": "code",
   "execution_count": 37,
   "metadata": {},
   "outputs": [
    {
     "data": {
      "text/plain": [
       "<sklearn.metrics._plot.confusion_matrix.ConfusionMatrixDisplay at 0x7f95fe058d30>"
      ]
     },
     "execution_count": 37,
     "metadata": {},
     "output_type": "execute_result"
    },
    {
     "data": {
      "image/png": "[encoded data removed]",
      "text/plain": [
       "<Figure size 432x288 with 2 Axes>"
      ]
     },
     "metadata": {
      "needs_background": "light"
     },
     "output_type": "display_data"
    }
   ],
   "source": [
    "preds = gs.predict(X_test)\n",
    "plot_confusion_matrix(gs, X_test, y_test)"
   ]
  },
  {
   "cell_type": "markdown",
   "metadata": {},
   "source": [
    "## Surprisingly, there are not as many false predictions as anticipated even though Nasa appears in both subreddits, meaning that this model is much more accurate than first thought to be"
   ]
  },
  {
   "cell_type": "code",
   "execution_count": 39,
   "metadata": {},
   "outputs": [
    {
     "name": "stdout",
     "output_type": "stream",
     "text": [
      "              precision    recall  f1-score   support\n",
      "\n",
      "   Astronomy       0.79      0.82      0.80       239\n",
      "        nasa       0.81      0.79      0.80       244\n",
      "\n",
      "    accuracy                           0.80       483\n",
      "   macro avg       0.80      0.80      0.80       483\n",
      "weighted avg       0.80      0.80      0.80       483\n",
      "\n"
     ]
    }
   ],
   "source": [
    "print(classification_report(y_test, preds))"
   ]
  },
  {
   "cell_type": "code",
   "execution_count": null,
   "metadata": {},
   "outputs": [],
   "source": []
  }
 ],
 "metadata": {
  "kernelspec": {
   "display_name": "Python 3",
   "language": "python",
   "name": "python3"
  },
  "language_info": {
   "codemirror_mode": {
    "name": "ipython",
    "version": 3
   },
   "file_extension": ".py",
   "mimetype": "text/x-python",
   "name": "python",
   "nbconvert_exporter": "python",
   "pygments_lexer": "ipython3",
   "version": "3.8.5"
  }
 },
 "nbformat": 4,
 "nbformat_minor": 4
}
